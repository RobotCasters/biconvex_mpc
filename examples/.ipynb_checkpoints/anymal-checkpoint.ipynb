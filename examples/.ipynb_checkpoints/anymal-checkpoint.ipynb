{
 "cells": [
  {
   "cell_type": "code",
   "execution_count": 11,
   "id": "f9c521d2",
   "metadata": {},
   "outputs": [
    {
     "name": "stdout",
     "output_type": "stream",
     "text": [
      "The autoreload extension is already loaded. To reload it, use:\n",
      "  %reload_ext autoreload\n"
     ]
    }
   ],
   "source": [
    "## This is a demo for atlas\n",
    "## Author : Avadesh Meduri\n",
    "## Date : 06/04/2022\n",
    "%load_ext autoreload\n",
    "%autoreload 2\n",
    "\n",
    "import time\n",
    "import numpy as np\n",
    "from robot_properties_anymal.config import AnymalConfig\n",
    "from mpc.anymal_cyclic_gen import AnymalMpcGaitGen\n",
    "\n",
    "from matplotlib import pyplot as plt\n",
    "\n",
    "import pinocchio as pin\n",
    "\n",
    "import numpy as np\n",
    "from motions.weight_abstract import BiconvexMotionParams"
   ]
  },
  {
   "cell_type": "code",
   "execution_count": 12,
   "id": "0633406d",
   "metadata": {},
   "outputs": [
    {
     "name": "stdout",
     "output_type": "stream",
     "text": [
      "You can open the visualizer by visiting the following URL:\n",
      "http://127.0.0.1:7006/static/\n"
     ]
    }
   ],
   "source": [
    "robot = AnymalConfig.buildRobotWrapper()\n",
    "rmodel = robot.model\n",
    "rdata = robot.data\n",
    "\n",
    "pin_robot = AnymalConfig.buildRobotWrapper()\n",
    "\n",
    "viz = pin.visualize.MeshcatVisualizer(robot.model, robot.collision_model, robot.visual_model)\n",
    "viz.initViewer(open=False)\n",
    "viz.loadViewerModel()"
   ]
  },
  {
   "cell_type": "code",
   "execution_count": 13,
   "id": "1488f45a",
   "metadata": {},
   "outputs": [],
   "source": [
    "jump = BiconvexMotionParams(\"anymal\", \"Jump\")\n",
    "\n",
    "# Cnt\n",
    "jump.gait_period = 0.5\n",
    "jump.stance_percent = [0.4, 0.4, 0.4, 0.4]\n",
    "jump.gait_dt = 0.05\n",
    "jump.phase_offset = [0.3, 0.3, 0.3, 0.3]\n",
    "\n",
    "# IK\n",
    "jump.state_wt = np.array([0., 0, 10] + [1000, 1000, 1000] + [1e3] * (pin_robot.model.nv - 6) \\\n",
    "                        + [0.00] * 3 + [100, 100, 100] + [5e0] *(pin_robot.model.nv - 6))\n",
    "\n",
    "jump.ctrl_wt = [0, 0, 1000] + [5e2, 5e2, 5e2] + [10.0] *(pin_robot.model.nv - 6)\n",
    "\n",
    "jump.swing_wt = [1e5, 1e4]\n",
    "jump.cent_wt = [3*[0*5e+1], 6*[5e+1]]\n",
    "jump.step_ht = 0.05\n",
    "jump.nom_ht = 0.34\n",
    "jump.reg_wt = [5e-2, 1e-5]\n",
    "\n",
    "# Dyn \n",
    "jump.W_X =        np.array([1e-5, 1e-5, 1e+5, 1e+1, 1e+1, 2e+2, 1e+4, 1e+4, 1e4])\n",
    "jump.W_X_ter = 10*np.array([1e+5, 1e-5, 1e+5, 1e+1, 1e+1, 2e+2, 1e+5, 1e+5, 1e+5])\n",
    "jump.W_F = np.array(4*[1e+2, 1e+2, 1e+2])\n",
    "jump.rho = 5e+4\n",
    "jump.ori_correction = [0.3, 0.5, 0.3]\n",
    "jump.gait_horizon = 10.0\n",
    "jump.kp = 150.0\n",
    "jump.kd = 10.0\n"
   ]
  },
  {
   "cell_type": "code",
   "execution_count": 14,
   "id": "d2a4706a",
   "metadata": {},
   "outputs": [
    {
     "name": "stdout",
     "output_type": "stream",
     "text": [
      "Initialized Kino-Dyn planner\n"
     ]
    }
   ],
   "source": [
    "## Motion\n",
    "gait_params = jump\n",
    "\n",
    "## robot config and init\n",
    "urdf_path = AnymalConfig.urdf_path\n",
    "gait_time = gait_params.gait_period\n",
    "dt = 5e-2\n",
    "\n",
    "n_eff = 4\n",
    "q0 = np.array(AnymalConfig.initial_configuration)\n",
    "# q0[7:13] = 2 * [0.0, -0.8, 1.6]\n",
    "\n",
    "v0 = pin.utils.zero(pin_robot.model.nv)\n",
    "x0 = np.concatenate([q0, pin.utils.zero(pin_robot.model.nv)])\n",
    "\n",
    "w_des = 0.0\n",
    "v_des = np.array([0.2,0.0, 0])\n",
    "\n",
    "update_time = 0.02 # sec (time of lag)\n",
    "\n",
    "n = 1\n",
    "\n",
    "sim_t = 0.0\n",
    "step_t = 0\n",
    "sim_dt = .001\n",
    "plan_freq = 5.0\n",
    "\n",
    "gg = AnymalMpcGaitGen(pin_robot, urdf_path, x0, plan_freq, q0, None)\n",
    "gg.update_gait_params(gait_params, sim_t)"
   ]
  },
  {
   "cell_type": "code",
   "execution_count": 16,
   "id": "e4d06c4f",
   "metadata": {},
   "outputs": [
    {
     "data": {
      "text/html": [
       "\n",
       "            <div style=\"height: 400px; width: 100%; overflow-x: auto; overflow-y: hidden; resize: both\">\n",
       "            <iframe src=\"http://127.0.0.1:7006/static/\" style=\"width: 100%; height: 100%; border: none\"></iframe>\n",
       "            </div>\n",
       "            "
      ],
      "text/plain": [
       "<IPython.core.display.HTML object>"
      ]
     },
     "execution_count": 16,
     "metadata": {},
     "output_type": "execute_result"
    }
   ],
   "source": [
    "viz.viewer.jupyter_cell()"
   ]
  },
  {
   "cell_type": "code",
   "execution_count": 20,
   "id": "d5dba6a1",
   "metadata": {
    "scrolled": false
   },
   "outputs": [
    {
     "name": "stdout",
     "output_type": "stream",
     "text": [
      "Cost Time :Maximum iterations reached \n",
      "Final norm: 0.0396784\n",
      " 0.03402590751647949\n",
      "Solve Time :  0.20749545097351074\n",
      " ================================== \n"
     ]
    }
   ],
   "source": [
    "%matplotlib notebook \n",
    "\n",
    "q = q0\n",
    "v = v0\n",
    "step_t = 0\n",
    "n = 0\n",
    "\n",
    "xs_plan, us_plan, f_plan = gg.optimize(q, v, np.round(sim_t,3), v_des, w_des)\n",
    "# gg.plot(q, v)\n",
    "for ind in range(int(xs_plan.shape[0])):\n",
    "    viz.display(xs_plan[ind][:robot.model.nq])"
   ]
  },
  {
   "cell_type": "code",
   "execution_count": null,
   "id": "3985933f",
   "metadata": {},
   "outputs": [],
   "source": []
  }
 ],
 "metadata": {
  "kernelspec": {
   "display_name": "b1_env",
   "language": "python",
   "name": "b1_env"
  },
  "language_info": {
   "codemirror_mode": {
    "name": "ipython",
    "version": 3
   },
   "file_extension": ".py",
   "mimetype": "text/x-python",
   "name": "python",
   "nbconvert_exporter": "python",
   "pygments_lexer": "ipython3",
   "version": "3.8.15"
  }
 },
 "nbformat": 4,
 "nbformat_minor": 5
}
